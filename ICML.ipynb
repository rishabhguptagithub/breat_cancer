{
 "cells": [
  {
   "cell_type": "code",
   "execution_count": null,
   "metadata": {},
   "outputs": [],
   "source": [
    "import os\n",
    "import numpy as np\n",
    "import cv2 as cv\n",
    "from matplotlib import pyplot as plt\n",
    "import pandas as pd\n",
    "%matplotlib inline\n",
    "import matplotlib.pyplot as plt\n",
    "from matplotlib.offsetbox import OffsetImage, AnnotationBbox\n",
    "import glob\n",
    "import os\n",
    "from sklearn.decomposition import PCA\n",
    "from sklearn.manifold import TSNE\n",
    "from sklearn.preprocessing import StandardScaler\n",
    "from sklearn.ensemble import RandomForestClassifier\n",
    "from sklearn.model_selection import train_test_split\n",
    "from sklearn.metrics import accuracy_score\n",
    "from sklearn import svm\n",
    "from sklearn.cluster import KMeans\n",
    "import tensorflow as tf\n",
    "from sklearn.svm import LinearSVC\n",
    "from skimage import feature\n",
    "import numpy as np\n",
    "from skimage import feature\n",
    "import numpy as np\n",
    "numPoints=24\n",
    "radius=6\n",
    "eps=1e-7"
   ]
  },
  {
   "cell_type": "code",
   "execution_count": null,
   "metadata": {},
   "outputs": [],
   "source": [
    "cancer_image=[]\n",
    "labels=[]\n",
    "n=100\n",
    "for cancer_dir_path in glob.glob(\"/home/rishotics/sawon/data/*\"):\n",
    "    cancer_label=cancer_dir_path.split(\"/\")[-1]\n",
    "    \n",
    "    path=\"/home/rishotics/sawon/data/\"+cancer_label+\"/40X/*\"\n",
    "    c=0\n",
    "    for cancer_dir_path_res in glob.glob(path):\n",
    "        \n",
    "        if(c==n):\n",
    "            break\n",
    "        else:\n",
    "            image=cv.imread(cancer_dir_path_res,-1)\n",
    "            image = cv.resize(image, (460,700))\n",
    "            image = cv.cvtColor(image, cv.COLOR_RGB2GRAY)\n",
    "            labels.append(cancer_label)\n",
    "            cancer_image.append(image)\n",
    "            c=c+1\n",
    "            \n",
    "        \n",
    "        \n",
    "cancer_image=np.array(cancer_image)\n",
    "labels=np.array(labels)\n",
    "cancer_to_dict={i:k for k,i in enumerate(np.unique(labels))}\n",
    "dict_to_id={i:k for k,i in cancer_to_dict.items()}\n",
    "label_id=np.array([cancer_to_dict[x] for x in labels])\n",
    "        \n",
    "    "
   ]
  },
  {
   "cell_type": "code",
   "execution_count": null,
   "metadata": {},
   "outputs": [],
   "source": [
    "data = []\n",
    "labels = []\n",
    "\n",
    "def LBP_features(image):\n",
    "    #gray = cv.cvtColor(image, cv.COLOR_RGB2GRAY)\n",
    "    \n",
    "    \n",
    "    \n",
    "    lbp = feature.local_binary_pattern(image, numPoints,radius, method=\"uniform\")\n",
    "    (hist, _) = np.histogram(lbp.ravel(),bins=np.arange(0, numPoints + 3),\n",
    "    range=(0, numPoints + 2))\n",
    " \n",
    "\t\t# normalize the histogram\n",
    "    hist = hist.astype(\"float\")\n",
    "    hist /= (hist.sum() + eps)\n",
    "   # hist = hist.describe()\n",
    "    return (pd.Series(hist).describe())"
   ]
  },
  {
   "cell_type": "code",
   "execution_count": null,
   "metadata": {},
   "outputs": [],
   "source": [
    "j=0\n",
    "X=np.zeros((cancer_image.shape[0],8))\n",
    "for i in cancer_image:\n",
    "    \n",
    "    \n",
    "    \n",
    "    lbp_features=LBP_features(i)\n",
    "    \n",
    "    X[j,:]=lbp_features\n",
    "    \n",
    "    j=j+1\n",
    "X.shape\n",
    "X    "
   ]
  }
 ],
 "metadata": {
  "kernelspec": {
   "display_name": "Python 2",
   "language": "python",
   "name": "python2"
  },
  "language_info": {
   "codemirror_mode": {
    "name": "ipython",
    "version": 2
   },
   "file_extension": ".py",
   "mimetype": "text/x-python",
   "name": "python",
   "nbconvert_exporter": "python",
   "pygments_lexer": "ipython2",
   "version": "2.7.15"
  }
 },
 "nbformat": 4,
 "nbformat_minor": 2
}
